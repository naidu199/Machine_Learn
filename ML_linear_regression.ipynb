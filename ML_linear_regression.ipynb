{
  "nbformat": 4,
  "nbformat_minor": 0,
  "metadata": {
    "colab": {
      "provenance": [],
      "authorship_tag": "ABX9TyMbviVdZnjSONIaKGNR7Wiv",
      "include_colab_link": true
    },
    "kernelspec": {
      "name": "python3",
      "display_name": "Python 3"
    },
    "language_info": {
      "name": "python"
    }
  },
  "cells": [
    {
      "cell_type": "markdown",
      "metadata": {
        "id": "view-in-github",
        "colab_type": "text"
      },
      "source": [
        "<a href=\"https://colab.research.google.com/github/naidu199/Machine_Learn/blob/main/ML_linear_regression.ipynb\" target=\"_parent\"><img src=\"https://colab.research.google.com/assets/colab-badge.svg\" alt=\"Open In Colab\"/></a>"
      ]
    },
    {
      "cell_type": "code",
      "execution_count": 2,
      "metadata": {
        "id": "9M2hF5qjiME0"
      },
      "outputs": [],
      "source": [
        "import numpy as np\n",
        "import pandas as pd\n",
        "import matplotlib.pyplot as plt\n",
        "%matplotlib inline\n"
      ]
    },
    {
      "cell_type": "code",
      "source": [
        "#importing dataframe\n",
        "data=pd.read_csv(\"https://cf-courses-data.s3.us.cloud-object-storage.appdomain.cloud/IBMDeveloperSkillsNetwork-ML0101EN-SkillsNetwork/labs/Module%202/data/FuelConsumptionCo2.csv\")\n",
        "\n",
        "data.iloc[:,:6]\n",
        "df=data[0:5]\n",
        "df"
      ],
      "metadata": {
        "colab": {
          "base_uri": "https://localhost:8080/",
          "height": 278
        },
        "id": "b5hNR86-orAg",
        "outputId": "2e236f7b-55cc-4490-817d-5de675d5228f"
      },
      "execution_count": 3,
      "outputs": [
        {
          "output_type": "execute_result",
          "data": {
            "text/plain": [
              "   MODELYEAR   MAKE       MODEL VEHICLECLASS  ENGINESIZE  CYLINDERS  \\\n",
              "0       2014  ACURA         ILX      COMPACT         2.0          4   \n",
              "1       2014  ACURA         ILX      COMPACT         2.4          4   \n",
              "2       2014  ACURA  ILX HYBRID      COMPACT         1.5          4   \n",
              "3       2014  ACURA     MDX 4WD  SUV - SMALL         3.5          6   \n",
              "4       2014  ACURA     RDX AWD  SUV - SMALL         3.5          6   \n",
              "\n",
              "  TRANSMISSION FUELTYPE  FUELCONSUMPTION_CITY  FUELCONSUMPTION_HWY  \\\n",
              "0          AS5        Z                   9.9                  6.7   \n",
              "1           M6        Z                  11.2                  7.7   \n",
              "2          AV7        Z                   6.0                  5.8   \n",
              "3          AS6        Z                  12.7                  9.1   \n",
              "4          AS6        Z                  12.1                  8.7   \n",
              "\n",
              "   FUELCONSUMPTION_COMB  FUELCONSUMPTION_COMB_MPG  CO2EMISSIONS  \n",
              "0                   8.5                        33           196  \n",
              "1                   9.6                        29           221  \n",
              "2                   5.9                        48           136  \n",
              "3                  11.1                        25           255  \n",
              "4                  10.6                        27           244  "
            ],
            "text/html": [
              "\n",
              "  <div id=\"df-04990706-0293-4701-98cc-5b062730de2f\" class=\"colab-df-container\">\n",
              "    <div>\n",
              "<style scoped>\n",
              "    .dataframe tbody tr th:only-of-type {\n",
              "        vertical-align: middle;\n",
              "    }\n",
              "\n",
              "    .dataframe tbody tr th {\n",
              "        vertical-align: top;\n",
              "    }\n",
              "\n",
              "    .dataframe thead th {\n",
              "        text-align: right;\n",
              "    }\n",
              "</style>\n",
              "<table border=\"1\" class=\"dataframe\">\n",
              "  <thead>\n",
              "    <tr style=\"text-align: right;\">\n",
              "      <th></th>\n",
              "      <th>MODELYEAR</th>\n",
              "      <th>MAKE</th>\n",
              "      <th>MODEL</th>\n",
              "      <th>VEHICLECLASS</th>\n",
              "      <th>ENGINESIZE</th>\n",
              "      <th>CYLINDERS</th>\n",
              "      <th>TRANSMISSION</th>\n",
              "      <th>FUELTYPE</th>\n",
              "      <th>FUELCONSUMPTION_CITY</th>\n",
              "      <th>FUELCONSUMPTION_HWY</th>\n",
              "      <th>FUELCONSUMPTION_COMB</th>\n",
              "      <th>FUELCONSUMPTION_COMB_MPG</th>\n",
              "      <th>CO2EMISSIONS</th>\n",
              "    </tr>\n",
              "  </thead>\n",
              "  <tbody>\n",
              "    <tr>\n",
              "      <th>0</th>\n",
              "      <td>2014</td>\n",
              "      <td>ACURA</td>\n",
              "      <td>ILX</td>\n",
              "      <td>COMPACT</td>\n",
              "      <td>2.0</td>\n",
              "      <td>4</td>\n",
              "      <td>AS5</td>\n",
              "      <td>Z</td>\n",
              "      <td>9.9</td>\n",
              "      <td>6.7</td>\n",
              "      <td>8.5</td>\n",
              "      <td>33</td>\n",
              "      <td>196</td>\n",
              "    </tr>\n",
              "    <tr>\n",
              "      <th>1</th>\n",
              "      <td>2014</td>\n",
              "      <td>ACURA</td>\n",
              "      <td>ILX</td>\n",
              "      <td>COMPACT</td>\n",
              "      <td>2.4</td>\n",
              "      <td>4</td>\n",
              "      <td>M6</td>\n",
              "      <td>Z</td>\n",
              "      <td>11.2</td>\n",
              "      <td>7.7</td>\n",
              "      <td>9.6</td>\n",
              "      <td>29</td>\n",
              "      <td>221</td>\n",
              "    </tr>\n",
              "    <tr>\n",
              "      <th>2</th>\n",
              "      <td>2014</td>\n",
              "      <td>ACURA</td>\n",
              "      <td>ILX HYBRID</td>\n",
              "      <td>COMPACT</td>\n",
              "      <td>1.5</td>\n",
              "      <td>4</td>\n",
              "      <td>AV7</td>\n",
              "      <td>Z</td>\n",
              "      <td>6.0</td>\n",
              "      <td>5.8</td>\n",
              "      <td>5.9</td>\n",
              "      <td>48</td>\n",
              "      <td>136</td>\n",
              "    </tr>\n",
              "    <tr>\n",
              "      <th>3</th>\n",
              "      <td>2014</td>\n",
              "      <td>ACURA</td>\n",
              "      <td>MDX 4WD</td>\n",
              "      <td>SUV - SMALL</td>\n",
              "      <td>3.5</td>\n",
              "      <td>6</td>\n",
              "      <td>AS6</td>\n",
              "      <td>Z</td>\n",
              "      <td>12.7</td>\n",
              "      <td>9.1</td>\n",
              "      <td>11.1</td>\n",
              "      <td>25</td>\n",
              "      <td>255</td>\n",
              "    </tr>\n",
              "    <tr>\n",
              "      <th>4</th>\n",
              "      <td>2014</td>\n",
              "      <td>ACURA</td>\n",
              "      <td>RDX AWD</td>\n",
              "      <td>SUV - SMALL</td>\n",
              "      <td>3.5</td>\n",
              "      <td>6</td>\n",
              "      <td>AS6</td>\n",
              "      <td>Z</td>\n",
              "      <td>12.1</td>\n",
              "      <td>8.7</td>\n",
              "      <td>10.6</td>\n",
              "      <td>27</td>\n",
              "      <td>244</td>\n",
              "    </tr>\n",
              "  </tbody>\n",
              "</table>\n",
              "</div>\n",
              "    <div class=\"colab-df-buttons\">\n",
              "\n",
              "  <div class=\"colab-df-container\">\n",
              "    <button class=\"colab-df-convert\" onclick=\"convertToInteractive('df-04990706-0293-4701-98cc-5b062730de2f')\"\n",
              "            title=\"Convert this dataframe to an interactive table.\"\n",
              "            style=\"display:none;\">\n",
              "\n",
              "  <svg xmlns=\"http://www.w3.org/2000/svg\" height=\"24px\" viewBox=\"0 -960 960 960\">\n",
              "    <path d=\"M120-120v-720h720v720H120Zm60-500h600v-160H180v160Zm220 220h160v-160H400v160Zm0 220h160v-160H400v160ZM180-400h160v-160H180v160Zm440 0h160v-160H620v160ZM180-180h160v-160H180v160Zm440 0h160v-160H620v160Z\"/>\n",
              "  </svg>\n",
              "    </button>\n",
              "\n",
              "  <style>\n",
              "    .colab-df-container {\n",
              "      display:flex;\n",
              "      gap: 12px;\n",
              "    }\n",
              "\n",
              "    .colab-df-convert {\n",
              "      background-color: #E8F0FE;\n",
              "      border: none;\n",
              "      border-radius: 50%;\n",
              "      cursor: pointer;\n",
              "      display: none;\n",
              "      fill: #1967D2;\n",
              "      height: 32px;\n",
              "      padding: 0 0 0 0;\n",
              "      width: 32px;\n",
              "    }\n",
              "\n",
              "    .colab-df-convert:hover {\n",
              "      background-color: #E2EBFA;\n",
              "      box-shadow: 0px 1px 2px rgba(60, 64, 67, 0.3), 0px 1px 3px 1px rgba(60, 64, 67, 0.15);\n",
              "      fill: #174EA6;\n",
              "    }\n",
              "\n",
              "    .colab-df-buttons div {\n",
              "      margin-bottom: 4px;\n",
              "    }\n",
              "\n",
              "    [theme=dark] .colab-df-convert {\n",
              "      background-color: #3B4455;\n",
              "      fill: #D2E3FC;\n",
              "    }\n",
              "\n",
              "    [theme=dark] .colab-df-convert:hover {\n",
              "      background-color: #434B5C;\n",
              "      box-shadow: 0px 1px 3px 1px rgba(0, 0, 0, 0.15);\n",
              "      filter: drop-shadow(0px 1px 2px rgba(0, 0, 0, 0.3));\n",
              "      fill: #FFFFFF;\n",
              "    }\n",
              "  </style>\n",
              "\n",
              "    <script>\n",
              "      const buttonEl =\n",
              "        document.querySelector('#df-04990706-0293-4701-98cc-5b062730de2f button.colab-df-convert');\n",
              "      buttonEl.style.display =\n",
              "        google.colab.kernel.accessAllowed ? 'block' : 'none';\n",
              "\n",
              "      async function convertToInteractive(key) {\n",
              "        const element = document.querySelector('#df-04990706-0293-4701-98cc-5b062730de2f');\n",
              "        const dataTable =\n",
              "          await google.colab.kernel.invokeFunction('convertToInteractive',\n",
              "                                                    [key], {});\n",
              "        if (!dataTable) return;\n",
              "\n",
              "        const docLinkHtml = 'Like what you see? Visit the ' +\n",
              "          '<a target=\"_blank\" href=https://colab.research.google.com/notebooks/data_table.ipynb>data table notebook</a>'\n",
              "          + ' to learn more about interactive tables.';\n",
              "        element.innerHTML = '';\n",
              "        dataTable['output_type'] = 'display_data';\n",
              "        await google.colab.output.renderOutput(dataTable, element);\n",
              "        const docLink = document.createElement('div');\n",
              "        docLink.innerHTML = docLinkHtml;\n",
              "        element.appendChild(docLink);\n",
              "      }\n",
              "    </script>\n",
              "  </div>\n",
              "\n",
              "\n",
              "<div id=\"df-e7bac7c5-824e-42d4-91f6-9113b852bf4f\">\n",
              "  <button class=\"colab-df-quickchart\" onclick=\"quickchart('df-e7bac7c5-824e-42d4-91f6-9113b852bf4f')\"\n",
              "            title=\"Suggest charts.\"\n",
              "            style=\"display:none;\">\n",
              "\n",
              "<svg xmlns=\"http://www.w3.org/2000/svg\" height=\"24px\"viewBox=\"0 0 24 24\"\n",
              "     width=\"24px\">\n",
              "    <g>\n",
              "        <path d=\"M19 3H5c-1.1 0-2 .9-2 2v14c0 1.1.9 2 2 2h14c1.1 0 2-.9 2-2V5c0-1.1-.9-2-2-2zM9 17H7v-7h2v7zm4 0h-2V7h2v10zm4 0h-2v-4h2v4z\"/>\n",
              "    </g>\n",
              "</svg>\n",
              "  </button>\n",
              "\n",
              "<style>\n",
              "  .colab-df-quickchart {\n",
              "    background-color: #E8F0FE;\n",
              "    border: none;\n",
              "    border-radius: 50%;\n",
              "    cursor: pointer;\n",
              "    display: none;\n",
              "    fill: #1967D2;\n",
              "    height: 32px;\n",
              "    padding: 0 0 0 0;\n",
              "    width: 32px;\n",
              "  }\n",
              "\n",
              "  .colab-df-quickchart:hover {\n",
              "    background-color: #E2EBFA;\n",
              "    box-shadow: 0px 1px 2px rgba(60, 64, 67, 0.3), 0px 1px 3px 1px rgba(60, 64, 67, 0.15);\n",
              "    fill: #174EA6;\n",
              "  }\n",
              "\n",
              "  [theme=dark] .colab-df-quickchart {\n",
              "    background-color: #3B4455;\n",
              "    fill: #D2E3FC;\n",
              "  }\n",
              "\n",
              "  [theme=dark] .colab-df-quickchart:hover {\n",
              "    background-color: #434B5C;\n",
              "    box-shadow: 0px 1px 3px 1px rgba(0, 0, 0, 0.15);\n",
              "    filter: drop-shadow(0px 1px 2px rgba(0, 0, 0, 0.3));\n",
              "    fill: #FFFFFF;\n",
              "  }\n",
              "</style>\n",
              "\n",
              "  <script>\n",
              "    async function quickchart(key) {\n",
              "      const charts = await google.colab.kernel.invokeFunction(\n",
              "          'suggestCharts', [key], {});\n",
              "    }\n",
              "    (() => {\n",
              "      let quickchartButtonEl =\n",
              "        document.querySelector('#df-e7bac7c5-824e-42d4-91f6-9113b852bf4f button');\n",
              "      quickchartButtonEl.style.display =\n",
              "        google.colab.kernel.accessAllowed ? 'block' : 'none';\n",
              "    })();\n",
              "  </script>\n",
              "</div>\n",
              "    </div>\n",
              "  </div>\n"
            ]
          },
          "metadata": {},
          "execution_count": 3
        }
      ]
    },
    {
      "cell_type": "code",
      "source": [
        "data.shape"
      ],
      "metadata": {
        "colab": {
          "base_uri": "https://localhost:8080/"
        },
        "id": "eXJ5l3zzq7nJ",
        "outputId": "28b1819a-d627-480d-ce23-1ff6da38152b"
      },
      "execution_count": 4,
      "outputs": [
        {
          "output_type": "execute_result",
          "data": {
            "text/plain": [
              "(1067, 13)"
            ]
          },
          "metadata": {},
          "execution_count": 4
        }
      ]
    },
    {
      "cell_type": "code",
      "source": [
        "x=data.ENGINESIZE\n",
        "y=data.CO2EMISSIONS\n",
        "len(x)"
      ],
      "metadata": {
        "colab": {
          "base_uri": "https://localhost:8080/"
        },
        "id": "8dHfalQGi1dE",
        "outputId": "710dd985-acad-4484-bd38-40bee17b3d97"
      },
      "execution_count": 5,
      "outputs": [
        {
          "output_type": "execute_result",
          "data": {
            "text/plain": [
              "1067"
            ]
          },
          "metadata": {},
          "execution_count": 5
        }
      ]
    },
    {
      "cell_type": "code",
      "source": [
        "#mean of the variables\n",
        "mx=np.mean(x) #mean of x\n",
        "my=np.mean(y) #mean of y\n",
        "mx,my"
      ],
      "metadata": {
        "colab": {
          "base_uri": "https://localhost:8080/"
        },
        "id": "3ijJZY05kGbM",
        "outputId": "e5b2b950-8c00-4ad4-ec7f-cf8e35e044be"
      },
      "execution_count": 6,
      "outputs": [
        {
          "output_type": "execute_result",
          "data": {
            "text/plain": [
              "(3.346298031865042, 256.2286785379569)"
            ]
          },
          "metadata": {},
          "execution_count": 6
        }
      ]
    },
    {
      "cell_type": "code",
      "source": [
        "#finding m,c in y=mx+c\n",
        "l=len(x)\n",
        "num=0\n",
        "den=0\n",
        "for i in range(l):\n",
        "  num+=(x[i]-mx)*(y[i]-my)\n",
        "  den+=(x[i]-mx)**2\n",
        "m=num/den\n",
        "c=my-(m*mx) #mx is mean of x\n",
        "m,c"
      ],
      "metadata": {
        "colab": {
          "base_uri": "https://localhost:8080/"
        },
        "id": "CsBGL3vVpPxW",
        "outputId": "5285c499-356f-4cc5-d0d5-545d1fc9fda7"
      },
      "execution_count": 7,
      "outputs": [
        {
          "output_type": "execute_result",
          "data": {
            "text/plain": [
              "(39.12519978671172, 125.30409949535692)"
            ]
          },
          "metadata": {},
          "execution_count": 7
        }
      ]
    },
    {
      "cell_type": "code",
      "source": [
        "#Graph values\n",
        "max_x=np.max(x)\n",
        "min_x=np.min(x)\n",
        "gx=np.linspace(min_x,max_x,10)\n",
        "gy=(m*gx)+c\n",
        "\n",
        "gx\n",
        "\n",
        "\n"
      ],
      "metadata": {
        "id": "Q-NuN7cVqdyX",
        "colab": {
          "base_uri": "https://localhost:8080/"
        },
        "outputId": "416f85db-2624-421c-cded-6370a6132b2f"
      },
      "execution_count": 21,
      "outputs": [
        {
          "output_type": "execute_result",
          "data": {
            "text/plain": [
              "array([1.        , 1.82222222, 2.64444444, 3.46666667, 4.28888889,\n",
              "       5.11111111, 5.93333333, 6.75555556, 7.57777778, 8.4       ])"
            ]
          },
          "metadata": {},
          "execution_count": 21
        }
      ]
    },
    {
      "cell_type": "code",
      "source": [
        "#Regression line\n",
        "plt.plot(gx,gy,color=\"red\")\n"
      ],
      "metadata": {
        "colab": {
          "base_uri": "https://localhost:8080/",
          "height": 447
        },
        "id": "5h0sk_hfsROz",
        "outputId": "e76ccdc5-0459-44c6-c81f-f9657127c81d"
      },
      "execution_count": 9,
      "outputs": [
        {
          "output_type": "execute_result",
          "data": {
            "text/plain": [
              "[<matplotlib.lines.Line2D at 0x7db1f4ef9ea0>]"
            ]
          },
          "metadata": {},
          "execution_count": 9
        },
        {
          "output_type": "display_data",
          "data": {
            "text/plain": [
              "<Figure size 640x480 with 1 Axes>"
            ],
            "image/png": "[encoded data removed]"
          },
          "metadata": {}
        }
      ]
    },
    {
      "cell_type": "code",
      "source": [
        "#Graph of linear regression\n",
        "plt.scatter(x,y,color=\"blue\",label=\"line plot\" )\n",
        "plt.plot(gx,gy,color=\"red\",label=\"scatter plot\")\n",
        "plt.xlabel(\"ENGINESIZE\")\n",
        "plt.ylabel(\"CO2EMISSIONS\")\n",
        "plt.legend()\n",
        "\n",
        "\n"
      ],
      "metadata": {
        "colab": {
          "base_uri": "https://localhost:8080/",
          "height": 466
        },
        "id": "QhiFpoK2yzcp",
        "outputId": "18b56cf7-771d-4e9c-a23a-02a18e5cbbc5"
      },
      "execution_count": 10,
      "outputs": [
        {
          "output_type": "execute_result",
          "data": {
            "text/plain": [
              "<matplotlib.legend.Legend at 0x7db1f2e29900>"
            ]
          },
          "metadata": {},
          "execution_count": 10
        },
        {
          "output_type": "display_data",
          "data": {
            "text/plain": [
              "<Figure size 640x480 with 1 Axes>"
            ],
            "image/png": "[encoded data removed]"
          },
          "metadata": {}
        }
      ]
    },
    {
      "cell_type": "code",
      "source": [
        "#R2 error value\n",
        "n=0\n",
        "d=0\n",
        "for i in range(l):\n",
        "  py=m*x[i]+c\n",
        "  n+=(y[i]-py)**2\n",
        "  d+=(y[i]-my)**2\n",
        "r2=1-(n/d)\n",
        "r2"
      ],
      "metadata": {
        "colab": {
          "base_uri": "https://localhost:8080/"
        },
        "id": "p7R0e_1VzhWW",
        "outputId": "6c29c680-c1f7-44de-e72d-248d0b477d3d"
      },
      "execution_count": 11,
      "outputs": [
        {
          "output_type": "execute_result",
          "data": {
            "text/plain": [
              "0.7641458597854811"
            ]
          },
          "metadata": {},
          "execution_count": 11
        }
      ]
    },
    {
      "cell_type": "code",
      "source": [
        "#MSE value\n",
        "s=0\n",
        "for i in range(l):\n",
        "  py=m*x[i]+c\n",
        "  s+=((y[i]-py)**2)\n",
        "s/l\n",
        "\n"
      ],
      "metadata": {
        "colab": {
          "base_uri": "https://localhost:8080/"
        },
        "id": "aQT5hDGl5JAX",
        "outputId": "ba2fb3cc-1949-48ab-cc0b-5d01d2a90464"
      },
      "execution_count": 12,
      "outputs": [
        {
          "output_type": "execute_result",
          "data": {
            "text/plain": [
              "946.3140527188766"
            ]
          },
          "metadata": {},
          "execution_count": 12
        }
      ]
    },
    {
      "cell_type": "code",
      "source": [
        "X=data.iloc[:,4:5].values\n",
        "Y=data.iloc[:,-1].values\n",
        "X"
      ],
      "metadata": {
        "colab": {
          "base_uri": "https://localhost:8080/"
        },
        "id": "qpA4bBEAJFyn",
        "outputId": "cb87f153-ad24-49d0-e9e0-10512de87190"
      },
      "execution_count": 13,
      "outputs": [
        {
          "output_type": "execute_result",
          "data": {
            "text/plain": [
              "array([[2. ],\n",
              "       [2.4],\n",
              "       [1.5],\n",
              "       ...,\n",
              "       [3. ],\n",
              "       [3.2],\n",
              "       [3.2]])"
            ]
          },
          "metadata": {},
          "execution_count": 13
        }
      ]
    },
    {
      "cell_type": "code",
      "source": [
        "from sklearn.model_selection import train_test_split\n",
        "xtrain,xtest,ytrain,ytest = train_test_split(X,Y,test_size=0.3,random_state=0)"
      ],
      "metadata": {
        "id": "72kHjw2m-21q"
      },
      "execution_count": 14,
      "outputs": []
    },
    {
      "cell_type": "code",
      "source": [
        "from sklearn.linear_model import LinearRegression\n",
        "lr=LinearRegression()\n",
        "lr.fit(xtrain,ytrain)"
      ],
      "metadata": {
        "colab": {
          "base_uri": "https://localhost:8080/",
          "height": 74
        },
        "id": "d3VoB-ImH53f",
        "outputId": "1b74d6ab-4481-4332-a408-71553fc7d17a"
      },
      "execution_count": 15,
      "outputs": [
        {
          "output_type": "execute_result",
          "data": {
            "text/plain": [
              "LinearRegression()"
            ],
            "text/html": [
              "<style>#sk-container-id-1 {color: black;background-color: white;}#sk-container-id-1 pre{padding: 0;}#sk-container-id-1 div.sk-toggleable {background-color: white;}#sk-container-id-1 label.sk-toggleable__label {cursor: pointer;display: block;width: 100%;margin-bottom: 0;padding: 0.3em;box-sizing: border-box;text-align: center;}#sk-container-id-1 label.sk-toggleable__label-arrow:before {content: \"▸\";float: left;margin-right: 0.25em;color: #696969;}#sk-container-id-1 label.sk-toggleable__label-arrow:hover:before {color: black;}#sk-container-id-1 div.sk-estimator:hover label.sk-toggleable__label-arrow:before {color: black;}#sk-container-id-1 div.sk-toggleable__content {max-height: 0;max-width: 0;overflow: hidden;text-align: left;background-color: #f0f8ff;}#sk-container-id-1 div.sk-toggleable__content pre {margin: 0.2em;color: black;border-radius: 0.25em;background-color: #f0f8ff;}#sk-container-id-1 input.sk-toggleable__control:checked~div.sk-toggleable__content {max-height: 200px;max-width: 100%;overflow: auto;}#sk-container-id-1 input.sk-toggleable__control:checked~label.sk-toggleable__label-arrow:before {content: \"▾\";}#sk-container-id-1 div.sk-estimator input.sk-toggleable__control:checked~label.sk-toggleable__label {background-color: #d4ebff;}#sk-container-id-1 div.sk-label input.sk-toggleable__control:checked~label.sk-toggleable__label {background-color: #d4ebff;}#sk-container-id-1 input.sk-hidden--visually {border: 0;clip: rect(1px 1px 1px 1px);clip: rect(1px, 1px, 1px, 1px);height: 1px;margin: -1px;overflow: hidden;padding: 0;position: absolute;width: 1px;}#sk-container-id-1 div.sk-estimator {font-family: monospace;background-color: #f0f8ff;border: 1px dotted black;border-radius: 0.25em;box-sizing: border-box;margin-bottom: 0.5em;}#sk-container-id-1 div.sk-estimator:hover {background-color: #d4ebff;}#sk-container-id-1 div.sk-parallel-item::after {content: \"\";width: 100%;border-bottom: 1px solid gray;flex-grow: 1;}#sk-container-id-1 div.sk-label:hover label.sk-toggleable__label {background-color: #d4ebff;}#sk-container-id-1 div.sk-serial::before {content: \"\";position: absolute;border-left: 1px solid gray;box-sizing: border-box;top: 0;bottom: 0;left: 50%;z-index: 0;}#sk-container-id-1 div.sk-serial {display: flex;flex-direction: column;align-items: center;background-color: white;padding-right: 0.2em;padding-left: 0.2em;position: relative;}#sk-container-id-1 div.sk-item {position: relative;z-index: 1;}#sk-container-id-1 div.sk-parallel {display: flex;align-items: stretch;justify-content: center;background-color: white;position: relative;}#sk-container-id-1 div.sk-item::before, #sk-container-id-1 div.sk-parallel-item::before {content: \"\";position: absolute;border-left: 1px solid gray;box-sizing: border-box;top: 0;bottom: 0;left: 50%;z-index: -1;}#sk-container-id-1 div.sk-parallel-item {display: flex;flex-direction: column;z-index: 1;position: relative;background-color: white;}#sk-container-id-1 div.sk-parallel-item:first-child::after {align-self: flex-end;width: 50%;}#sk-container-id-1 div.sk-parallel-item:last-child::after {align-self: flex-start;width: 50%;}#sk-container-id-1 div.sk-parallel-item:only-child::after {width: 0;}#sk-container-id-1 div.sk-dashed-wrapped {border: 1px dashed gray;margin: 0 0.4em 0.5em 0.4em;box-sizing: border-box;padding-bottom: 0.4em;background-color: white;}#sk-container-id-1 div.sk-label label {font-family: monospace;font-weight: bold;display: inline-block;line-height: 1.2em;}#sk-container-id-1 div.sk-label-container {text-align: center;}#sk-container-id-1 div.sk-container {/* jupyter's `normalize.less` sets `[hidden] { display: none; }` but bootstrap.min.css set `[hidden] { display: none !important; }` so we also need the `!important` here to be able to override the default hidden behavior on the sphinx rendered scikit-learn.org. See: https://github.com/scikit-learn/scikit-learn/issues/21755 */display: inline-block !important;position: relative;}#sk-container-id-1 div.sk-text-repr-fallback {display: none;}</style><div id=\"sk-container-id-1\" class=\"sk-top-container\"><div class=\"sk-text-repr-fallback\"><pre>LinearRegression()</pre><b>In a Jupyter environment, please rerun this cell to show the HTML representation or trust the notebook. <br />On GitHub, the HTML representation is unable to render, please try loading this page with nbviewer.org.</b></div><div class=\"sk-container\" hidden><div class=\"sk-item\"><div class=\"sk-estimator sk-toggleable\"><input class=\"sk-toggleable__control sk-hidden--visually\" id=\"sk-estimator-id-1\" type=\"checkbox\" checked><label for=\"sk-estimator-id-1\" class=\"sk-toggleable__label sk-toggleable__label-arrow\">LinearRegression</label><div class=\"sk-toggleable__content\"><pre>LinearRegression()</pre></div></div></div></div></div>"
            ]
          },
          "metadata": {},
          "execution_count": 15
        }
      ]
    },
    {
      "cell_type": "code",
      "source": [
        "yp=lr.predict(xtest)\n",
        "yp"
      ],
      "metadata": {
        "colab": {
          "base_uri": "https://localhost:8080/"
        },
        "id": "df-zdK5ZIQeW",
        "outputId": "f9ca2d3b-7ed5-482e-9397-f3c3503bb59a"
      },
      "execution_count": 16,
      "outputs": [
        {
          "output_type": "execute_result",
          "data": {
            "text/plain": [
              "array([343.61510708, 220.70719552, 220.70719552, 232.60150954,\n",
              "       224.67196686, 300.00262233, 220.70719552, 268.28445161,\n",
              "       220.70719552, 323.79125038, 268.28445161, 395.15713452,\n",
              "       244.49582356, 300.00262233, 181.05948211, 284.14353697,\n",
              "       315.8617077 , 188.98902479, 264.31968027, 387.22759184,\n",
              "       196.91856747, 264.31968027, 264.31968027, 204.84811015,\n",
              "       224.67196686, 244.49582356, 276.21399429, 335.6855644 ,\n",
              "       343.61510708, 204.84811015, 347.57987843, 224.67196686,\n",
              "       264.31968027, 244.49582356, 196.91856747, 188.98902479,\n",
              "       351.54464977, 220.70719552, 232.60150954, 268.28445161,\n",
              "       196.91856747, 196.91856747, 220.70719552, 204.84811015,\n",
              "       343.61510708, 204.84811015, 220.70719552, 188.98902479,\n",
              "       335.6855644 , 359.47419245, 311.89693636, 272.24922295,\n",
              "       268.28445161, 196.91856747, 220.70719552, 188.98902479,\n",
              "       307.93216502, 196.91856747, 252.42536624, 204.84811015,\n",
              "       188.98902479, 224.67196686, 204.84811015, 335.6855644 ,\n",
              "       268.28445161, 315.8617077 , 323.79125038, 268.28445161,\n",
              "       188.98902479, 181.05948211, 355.50942111, 264.31968027,\n",
              "       311.89693636, 335.6855644 , 300.00262233, 220.70719552,\n",
              "       268.28445161, 204.84811015, 204.84811015, 204.84811015,\n",
              "       185.02425345, 272.24922295, 196.91856747, 276.21399429,\n",
              "       292.07307965, 260.35490892, 181.05948211, 181.05948211,\n",
              "       323.79125038, 371.36850647, 244.49582356, 204.84811015,\n",
              "       204.84811015, 323.79125038, 351.54464977, 339.65033574,\n",
              "       224.67196686, 264.31968027, 387.22759184, 256.39013758,\n",
              "       220.70719552, 315.8617077 , 196.91856747, 196.91856747,\n",
              "       188.98902479, 181.05948211, 204.84811015, 264.31968027,\n",
              "       188.98902479, 268.28445161, 188.98902479, 204.84811015,\n",
              "       272.24922295, 264.31968027, 311.89693636, 252.42536624,\n",
              "       335.6855644 , 264.31968027, 331.72079306, 188.98902479,\n",
              "       276.21399429, 204.84811015, 371.36850647, 165.20039674,\n",
              "       188.98902479, 284.14353697, 268.28445161, 268.28445161,\n",
              "       244.49582356, 264.31968027, 264.31968027, 315.8617077 ,\n",
              "       204.84811015, 185.02425345, 335.6855644 , 351.54464977,\n",
              "       268.28445161, 196.91856747, 224.67196686, 224.67196686,\n",
              "       323.79125038, 196.91856747, 323.79125038, 339.65033574,\n",
              "       196.91856747, 224.67196686, 244.49582356, 347.57987843,\n",
              "       343.61510708, 224.67196686, 188.98902479, 264.31968027,\n",
              "       188.98902479, 252.42536624, 323.79125038, 268.28445161,\n",
              "       284.14353697, 204.84811015, 371.36850647, 268.28445161,\n",
              "       188.98902479, 204.84811015, 188.98902479, 264.31968027,\n",
              "       264.31968027, 188.98902479, 323.79125038, 188.98902479,\n",
              "       331.72079306, 335.6855644 , 252.42536624, 264.31968027,\n",
              "       272.24922295, 351.54464977, 284.14353697, 268.28445161,\n",
              "       272.24922295, 264.31968027, 188.98902479, 323.79125038,\n",
              "       371.36850647, 181.05948211, 335.6855644 , 188.98902479,\n",
              "       296.03785099, 296.03785099, 196.91856747, 311.89693636,\n",
              "       188.98902479, 323.79125038, 272.24922295, 256.39013758,\n",
              "       260.35490892, 244.49582356, 220.70719552, 311.89693636,\n",
              "       232.60150954, 220.70719552, 220.70719552, 335.6855644 ,\n",
              "       272.24922295, 220.70719552, 224.67196686, 371.36850647,\n",
              "       284.14353697, 284.14353697, 268.28445161, 244.49582356,\n",
              "       335.6855644 , 204.84811015, 204.84811015, 188.98902479,\n",
              "       188.98902479, 181.05948211, 268.28445161, 307.93216502,\n",
              "       264.31968027, 224.67196686, 185.02425345, 311.89693636,\n",
              "       458.59347597, 204.84811015, 204.84811015, 220.70719552,\n",
              "       323.79125038, 185.02425345, 264.31968027, 264.31968027,\n",
              "       268.28445161, 196.91856747, 220.70719552, 276.21399429,\n",
              "       268.28445161, 181.05948211, 185.02425345, 323.79125038,\n",
              "       264.31968027, 363.43896379, 264.31968027, 264.31968027,\n",
              "       204.84811015, 220.70719552, 268.28445161, 272.24922295,\n",
              "       196.91856747, 335.6855644 , 264.31968027, 244.49582356,\n",
              "       335.6855644 , 264.31968027, 220.70719552, 204.84811015,\n",
              "       224.67196686, 260.35490892, 268.28445161, 204.84811015,\n",
              "       244.49582356, 204.84811015, 204.84811015, 204.84811015,\n",
              "       343.61510708, 204.84811015, 204.84811015, 204.84811015,\n",
              "       339.65033574, 204.84811015, 244.49582356, 264.31968027,\n",
              "       204.84811015, 196.91856747, 224.67196686, 204.84811015,\n",
              "       272.24922295, 339.65033574, 351.54464977, 244.49582356,\n",
              "       264.31968027, 220.70719552, 371.36850647, 204.84811015,\n",
              "       264.31968027, 268.28445161, 185.02425345, 264.31968027,\n",
              "       224.67196686, 204.84811015, 284.14353697, 204.84811015,\n",
              "       371.36850647, 264.31968027, 371.36850647, 323.79125038,\n",
              "       204.84811015, 220.70719552, 363.43896379, 204.84811015,\n",
              "       208.81288149, 188.98902479, 335.6855644 , 264.31968027,\n",
              "       335.6855644 , 264.31968027, 204.84811015, 224.67196686,\n",
              "       188.98902479, 268.28445161, 181.05948211, 268.28445161,\n",
              "       220.70719552, 371.36850647, 204.84811015, 204.84811015,\n",
              "       232.60150954, 264.31968027, 284.14353697, 296.03785099,\n",
              "       331.72079306, 268.28445161, 252.42536624, 307.93216502,\n",
              "       232.60150954])"
            ]
          },
          "metadata": {},
          "execution_count": 16
        }
      ]
    },
    {
      "cell_type": "code",
      "source": [
        "ytest"
      ],
      "metadata": {
        "colab": {
          "base_uri": "https://localhost:8080/"
        },
        "id": "38bfKOuNKgla",
        "outputId": "2e39a4db-08e2-41c5-bdfa-af4d4bee5d9d"
      },
      "execution_count": 17,
      "outputs": [
        {
          "output_type": "execute_result",
          "data": {
            "text/plain": [
              "array([356, 209, 230, 212, 168, 292, 212, 276, 202, 334, 313, 437, 224,\n",
              "       281, 177, 260, 414, 223, 251, 359, 191, 189, 244, 242, 131, 283,\n",
              "       274, 294, 246, 110, 359, 239, 229, 237, 191, 196, 294, 221, 237,\n",
              "       237, 184, 184, 202, 194, 297, 198, 260, 179, 344, 359, 338, 288,\n",
              "       290, 129, 230, 179, 283, 159, 258, 209, 207, 205, 225, 294, 262,\n",
              "       299, 354, 230, 207, 124, 304, 189, 354, 270, 338, 216, 283, 179,\n",
              "       235, 166, 186, 253, 161, 334, 407, 246, 191, 172, 290, 258, 262,\n",
              "       209, 283, 342, 356, 368, 168, 221, 368, 262, 182, 320, 126, 166,\n",
              "       202, 196, 200, 288, 191, 259, 214, 228, 269, 317, 327, 294, 292,\n",
              "       244, 361, 200, 258, 191, 382, 147, 179, 310, 229, 237, 292, 264,\n",
              "       230, 294, 184, 136, 344, 373, 283, 110, 198, 232, 262, 191, 342,\n",
              "       368, 189, 175, 285, 345, 301, 138, 179, 251, 161, 235, 310, 242,\n",
              "       292, 221, 324, 235, 177, 209, 177, 202, 242, 205, 264, 184, 400,\n",
              "       334, 260, 285, 235, 301, 281, 276, 265, 242, 184, 345, 292, 184,\n",
              "       317, 200, 347, 290, 205, 350, 184, 290, 267, 271, 239, 232, 218,\n",
              "       269, 228, 216, 255, 317, 260, 225, 223, 329, 290, 288, 294, 258,\n",
              "       380, 198, 221, 191, 184, 184, 290, 347, 244, 218, 170, 267, 389,\n",
              "       138, 218, 198, 280, 196, 237, 255, 242, 168, 218, 246, 250, 186,\n",
              "       172, 315, 239, 413, 214, 260, 246, 246, 264, 264, 163, 317, 254,\n",
              "       292, 380, 299, 230, 186, 216, 232, 244, 202, 271, 170, 225, 162,\n",
              "       301, 225, 264, 214, 346, 212, 191, 244, 242, 196, 207, 212, 288,\n",
              "       382, 294, 267, 235, 235, 322, 196, 230, 259, 159, 224, 216, 235,\n",
              "       297, 181, 382, 239, 377, 294, 223, 212, 435, 228, 230, 209, 294,\n",
              "       232, 294, 253, 239, 216, 168, 222, 193, 283, 186, 340, 207, 193,\n",
              "       251, 209, 327, 271, 354, 258, 267, 297, 271])"
            ]
          },
          "metadata": {},
          "execution_count": 17
        }
      ]
    },
    {
      "cell_type": "code",
      "source": [
        "from sklearn.metrics import r2_score\n",
        "r2_score(ytest,yp)"
      ],
      "metadata": {
        "colab": {
          "base_uri": "https://localhost:8080/"
        },
        "id": "AEOmlMDIKaZG",
        "outputId": "d5b5ec4b-6a16-4108-a7f6-50c105e337e8"
      },
      "execution_count": 18,
      "outputs": [
        {
          "output_type": "execute_result",
          "data": {
            "text/plain": [
              "0.7245385677455163"
            ]
          },
          "metadata": {},
          "execution_count": 18
        }
      ]
    },
    {
      "cell_type": "code",
      "source": [
        "from sklearn.metrics import mean_squared_error\n",
        "mean_squared_error(ytest,yp)"
      ],
      "metadata": {
        "colab": {
          "base_uri": "https://localhost:8080/"
        },
        "id": "WtFeQ2_aK-Ff",
        "outputId": "fb546ab0-024a-4885-f247-da83c8058dc5"
      },
      "execution_count": 19,
      "outputs": [
        {
          "output_type": "execute_result",
          "data": {
            "text/plain": [
              "1092.2931593041808"
            ]
          },
          "metadata": {},
          "execution_count": 19
        }
      ]
    },
    {
      "cell_type": "code",
      "source": [
        "#max_x=np.max(x)\n",
        "#min_x=np.min(x)\n",
        "#gx=np.linspace(min_x,max_x,10)\n",
        "#gy=(m*gx)+c\n",
        "\n",
        "x_min=np.min(xtrain)\n",
        "x_max=np.max(xtrain)\n",
        "xg=np.linspace(x_min,x_max)\n",
        "xg"
      ],
      "metadata": {
        "id": "6f4xR4C4LS5q",
        "colab": {
          "base_uri": "https://localhost:8080/"
        },
        "outputId": "fd1eb3ab-1867-4810-d187-1232052a28e1"
      },
      "execution_count": 31,
      "outputs": [
        {
          "output_type": "execute_result",
          "data": {
            "text/plain": [
              "array([1.        , 1.15102041, 1.30204082, 1.45306122, 1.60408163,\n",
              "       1.75510204, 1.90612245, 2.05714286, 2.20816327, 2.35918367,\n",
              "       2.51020408, 2.66122449, 2.8122449 , 2.96326531, 3.11428571,\n",
              "       3.26530612, 3.41632653, 3.56734694, 3.71836735, 3.86938776,\n",
              "       4.02040816, 4.17142857, 4.32244898, 4.47346939, 4.6244898 ,\n",
              "       4.7755102 , 4.92653061, 5.07755102, 5.22857143, 5.37959184,\n",
              "       5.53061224, 5.68163265, 5.83265306, 5.98367347, 6.13469388,\n",
              "       6.28571429, 6.43673469, 6.5877551 , 6.73877551, 6.88979592,\n",
              "       7.04081633, 7.19183673, 7.34285714, 7.49387755, 7.64489796,\n",
              "       7.79591837, 7.94693878, 8.09795918, 8.24897959, 8.4       ])"
            ]
          },
          "metadata": {},
          "execution_count": 31
        }
      ]
    },
    {
      "cell_type": "code",
      "source": [
        "plt.plot(xtest,yp)\n",
        "plt.scatter(X,Y,color=\"red\")"
      ],
      "metadata": {
        "colab": {
          "base_uri": "https://localhost:8080/",
          "height": 447
        },
        "id": "3c4lVTOdQlpp",
        "outputId": "afdaf7ee-c264-4286-cb40-f8d2d6099127"
      },
      "execution_count": 33,
      "outputs": [
        {
          "output_type": "execute_result",
          "data": {
            "text/plain": [
              "<matplotlib.collections.PathCollection at 0x7db1e7ad08b0>"
            ]
          },
          "metadata": {},
          "execution_count": 33
        },
        {
          "output_type": "display_data",
          "data": {
            "text/plain": [
              "<Figure size 640x480 with 1 Axes>"
            ],
            "image/png": "[encoded data removed]"
          },
          "metadata": {}
        }
      ]
    },
    {
      "cell_type": "code",
      "source": [],
      "metadata": {
        "id": "zfMUTznLRLsr"
      },
      "execution_count": null,
      "outputs": []
    }
  ]
}