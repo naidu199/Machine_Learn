{
  "nbformat": 4,
  "nbformat_minor": 0,
  "metadata": {
    "colab": {
      "provenance": [],
      "mount_file_id": "1Gw3tt0uaROpHks4as-o1Ubdf4HOh-Kad",
      "authorship_tag": "ABX9TyNROSmfk8/DhPCXBYterYc+",
      "include_colab_link": true
    },
    "kernelspec": {
      "name": "python3",
      "display_name": "Python 3"
    },
    "language_info": {
      "name": "python"
    }
  },
  "cells": [
    {
      "cell_type": "markdown",
      "metadata": {
        "id": "view-in-github",
        "colab_type": "text"
      },
      "source": [
        "<a href=\"https://colab.research.google.com/github/naidu199/Machine_Learn/blob/main/Multiple_Diseases.ipynb\" target=\"_parent\"><img src=\"https://colab.research.google.com/assets/colab-badge.svg\" alt=\"Open In Colab\"/></a>"
      ]
    },
    {
      "cell_type": "code",
      "execution_count": 1,
      "metadata": {
        "id": "_Ag-jxDLm67w"
      },
      "outputs": [],
      "source": [
        "import numpy as np\n",
        "import pandas as pd\n",
        "import matplotlib.pyplot as plt\n",
        "import seaborn as sns"
      ]
    },
    {
      "cell_type": "code",
      "source": [
        "data=pd.read_csv(\"/content/drive/MyDrive/Data Sets/Blood_samples_dataset_balanced_2(f).csv\")\n"
      ],
      "metadata": {
        "id": "gQmWN92ZnHxn"
      },
      "execution_count": 5,
      "outputs": []
    },
    {
      "cell_type": "code",
      "source": [
        "data.head()"
      ],
      "metadata": {
        "colab": {
          "base_uri": "https://localhost:8080/",
          "height": 308
        },
        "id": "1qPs_bFonXqM",
        "outputId": "273ed0e0-9418-4b60-b76d-a5aa261b62b1"
      },
      "execution_count": 4,
      "outputs": [
        {
          "output_type": "execute_result",
          "data": {
            "text/plain": [
              "    Glucose  Cholesterol  Hemoglobin  Platelets  White Blood Cells  \\\n",
              "0  0.739597     0.650198    0.713631   0.868491           0.687433   \n",
              "1  0.121786     0.023058    0.944893   0.905372           0.507711   \n",
              "2  0.452539     0.116135    0.544560   0.400640           0.294538   \n",
              "3  0.136609     0.015605    0.419957   0.191487           0.081168   \n",
              "4  0.176737     0.752220    0.971779   0.785286           0.443880   \n",
              "\n",
              "   Red Blood Cells  Hematocrit  Mean Corpuscular Volume  \\\n",
              "0         0.529895    0.290006                 0.631045   \n",
              "1         0.403033    0.164216                 0.307553   \n",
              "2         0.382021    0.625267                 0.295122   \n",
              "3         0.166214    0.073293                 0.668719   \n",
              "4         0.439851    0.894991                 0.442159   \n",
              "\n",
              "   Mean Corpuscular Hemoglobin  Mean Corpuscular Hemoglobin Concentration  \\\n",
              "0                     0.001328                                   0.795829   \n",
              "1                     0.207938                                   0.505562   \n",
              "2                     0.868369                                   0.026808   \n",
              "3                     0.125447                                   0.501051   \n",
              "4                     0.257288                                   0.805987   \n",
              "\n",
              "   ...     HbA1c  LDL Cholesterol  HDL Cholesterol       ALT       AST  \\\n",
              "0  ...  0.502665         0.215560         0.512941  0.064187  0.610827   \n",
              "1  ...  0.856810         0.652465         0.106961  0.942549  0.344261   \n",
              "2  ...  0.466795         0.387332         0.421763  0.007186  0.506918   \n",
              "3  ...  0.016256         0.040137         0.826721  0.265415  0.594148   \n",
              "4  ...  0.429431         0.146294         0.221574  0.015280  0.567115   \n",
              "\n",
              "   Heart Rate  Creatinine  Troponin  C-reactive Protein   Disease  \n",
              "0    0.939485    0.095512  0.465957            0.769230   Healthy  \n",
              "1    0.666368    0.659060  0.816982            0.401166  Diabetes  \n",
              "2    0.431704    0.417295  0.799074            0.779208  Thalasse  \n",
              "3    0.225756    0.490349  0.637061            0.354094    Anemia  \n",
              "4    0.841412    0.153350  0.794008            0.094970  Thalasse  \n",
              "\n",
              "[5 rows x 25 columns]"
            ],
            "text/html": [
              "\n",
              "  <div id=\"df-f81383fb-c313-4824-872e-fda264e9df33\" class=\"colab-df-container\">\n",
              "    <div>\n",
              "<style scoped>\n",
              "    .dataframe tbody tr th:only-of-type {\n",
              "        vertical-align: middle;\n",
              "    }\n",
              "\n",
              "    .dataframe tbody tr th {\n",
              "        vertical-align: top;\n",
              "    }\n",
              "\n",
              "    .dataframe thead th {\n",
              "        text-align: right;\n",
              "    }\n",
              "</style>\n",
              "<table border=\"1\" class=\"dataframe\">\n",
              "  <thead>\n",
              "    <tr style=\"text-align: right;\">\n",
              "      <th></th>\n",
              "      <th>Glucose</th>\n",
              "      <th>Cholesterol</th>\n",
              "      <th>Hemoglobin</th>\n",
              "      <th>Platelets</th>\n",
              "      <th>White Blood Cells</th>\n",
              "      <th>Red Blood Cells</th>\n",
              "      <th>Hematocrit</th>\n",
              "      <th>Mean Corpuscular Volume</th>\n",
              "      <th>Mean Corpuscular Hemoglobin</th>\n",
              "      <th>Mean Corpuscular Hemoglobin Concentration</th>\n",
              "      <th>...</th>\n",
              "      <th>HbA1c</th>\n",
              "      <th>LDL Cholesterol</th>\n",
              "      <th>HDL Cholesterol</th>\n",
              "      <th>ALT</th>\n",
              "      <th>AST</th>\n",
              "      <th>Heart Rate</th>\n",
              "      <th>Creatinine</th>\n",
              "      <th>Troponin</th>\n",
              "      <th>C-reactive Protein</th>\n",
              "      <th>Disease</th>\n",
              "    </tr>\n",
              "  </thead>\n",
              "  <tbody>\n",
              "    <tr>\n",
              "      <th>0</th>\n",
              "      <td>0.739597</td>\n",
              "      <td>0.650198</td>\n",
              "      <td>0.713631</td>\n",
              "      <td>0.868491</td>\n",
              "      <td>0.687433</td>\n",
              "      <td>0.529895</td>\n",
              "      <td>0.290006</td>\n",
              "      <td>0.631045</td>\n",
              "      <td>0.001328</td>\n",
              "      <td>0.795829</td>\n",
              "      <td>...</td>\n",
              "      <td>0.502665</td>\n",
              "      <td>0.215560</td>\n",
              "      <td>0.512941</td>\n",
              "      <td>0.064187</td>\n",
              "      <td>0.610827</td>\n",
              "      <td>0.939485</td>\n",
              "      <td>0.095512</td>\n",
              "      <td>0.465957</td>\n",
              "      <td>0.769230</td>\n",
              "      <td>Healthy</td>\n",
              "    </tr>\n",
              "    <tr>\n",
              "      <th>1</th>\n",
              "      <td>0.121786</td>\n",
              "      <td>0.023058</td>\n",
              "      <td>0.944893</td>\n",
              "      <td>0.905372</td>\n",
              "      <td>0.507711</td>\n",
              "      <td>0.403033</td>\n",
              "      <td>0.164216</td>\n",
              "      <td>0.307553</td>\n",
              "      <td>0.207938</td>\n",
              "      <td>0.505562</td>\n",
              "      <td>...</td>\n",
              "      <td>0.856810</td>\n",
              "      <td>0.652465</td>\n",
              "      <td>0.106961</td>\n",
              "      <td>0.942549</td>\n",
              "      <td>0.344261</td>\n",
              "      <td>0.666368</td>\n",
              "      <td>0.659060</td>\n",
              "      <td>0.816982</td>\n",
              "      <td>0.401166</td>\n",
              "      <td>Diabetes</td>\n",
              "    </tr>\n",
              "    <tr>\n",
              "      <th>2</th>\n",
              "      <td>0.452539</td>\n",
              "      <td>0.116135</td>\n",
              "      <td>0.544560</td>\n",
              "      <td>0.400640</td>\n",
              "      <td>0.294538</td>\n",
              "      <td>0.382021</td>\n",
              "      <td>0.625267</td>\n",
              "      <td>0.295122</td>\n",
              "      <td>0.868369</td>\n",
              "      <td>0.026808</td>\n",
              "      <td>...</td>\n",
              "      <td>0.466795</td>\n",
              "      <td>0.387332</td>\n",
              "      <td>0.421763</td>\n",
              "      <td>0.007186</td>\n",
              "      <td>0.506918</td>\n",
              "      <td>0.431704</td>\n",
              "      <td>0.417295</td>\n",
              "      <td>0.799074</td>\n",
              "      <td>0.779208</td>\n",
              "      <td>Thalasse</td>\n",
              "    </tr>\n",
              "    <tr>\n",
              "      <th>3</th>\n",
              "      <td>0.136609</td>\n",
              "      <td>0.015605</td>\n",
              "      <td>0.419957</td>\n",
              "      <td>0.191487</td>\n",
              "      <td>0.081168</td>\n",
              "      <td>0.166214</td>\n",
              "      <td>0.073293</td>\n",
              "      <td>0.668719</td>\n",
              "      <td>0.125447</td>\n",
              "      <td>0.501051</td>\n",
              "      <td>...</td>\n",
              "      <td>0.016256</td>\n",
              "      <td>0.040137</td>\n",
              "      <td>0.826721</td>\n",
              "      <td>0.265415</td>\n",
              "      <td>0.594148</td>\n",
              "      <td>0.225756</td>\n",
              "      <td>0.490349</td>\n",
              "      <td>0.637061</td>\n",
              "      <td>0.354094</td>\n",
              "      <td>Anemia</td>\n",
              "    </tr>\n",
              "    <tr>\n",
              "      <th>4</th>\n",
              "      <td>0.176737</td>\n",
              "      <td>0.752220</td>\n",
              "      <td>0.971779</td>\n",
              "      <td>0.785286</td>\n",
              "      <td>0.443880</td>\n",
              "      <td>0.439851</td>\n",
              "      <td>0.894991</td>\n",
              "      <td>0.442159</td>\n",
              "      <td>0.257288</td>\n",
              "      <td>0.805987</td>\n",
              "      <td>...</td>\n",
              "      <td>0.429431</td>\n",
              "      <td>0.146294</td>\n",
              "      <td>0.221574</td>\n",
              "      <td>0.015280</td>\n",
              "      <td>0.567115</td>\n",
              "      <td>0.841412</td>\n",
              "      <td>0.153350</td>\n",
              "      <td>0.794008</td>\n",
              "      <td>0.094970</td>\n",
              "      <td>Thalasse</td>\n",
              "    </tr>\n",
              "  </tbody>\n",
              "</table>\n",
              "<p>5 rows × 25 columns</p>\n",
              "</div>\n",
              "    <div class=\"colab-df-buttons\">\n",
              "\n",
              "  <div class=\"colab-df-container\">\n",
              "    <button class=\"colab-df-convert\" onclick=\"convertToInteractive('df-f81383fb-c313-4824-872e-fda264e9df33')\"\n",
              "            title=\"Convert this dataframe to an interactive table.\"\n",
              "            style=\"display:none;\">\n",
              "\n",
              "  <svg xmlns=\"http://www.w3.org/2000/svg\" height=\"24px\" viewBox=\"0 -960 960 960\">\n",
              "    <path d=\"M120-120v-720h720v720H120Zm60-500h600v-160H180v160Zm220 220h160v-160H400v160Zm0 220h160v-160H400v160ZM180-400h160v-160H180v160Zm440 0h160v-160H620v160ZM180-180h160v-160H180v160Zm440 0h160v-160H620v160Z\"/>\n",
              "  </svg>\n",
              "    </button>\n",
              "\n",
              "  <style>\n",
              "    .colab-df-container {\n",
              "      display:flex;\n",
              "      gap: 12px;\n",
              "    }\n",
              "\n",
              "    .colab-df-convert {\n",
              "      background-color: #E8F0FE;\n",
              "      border: none;\n",
              "      border-radius: 50%;\n",
              "      cursor: pointer;\n",
              "      display: none;\n",
              "      fill: #1967D2;\n",
              "      height: 32px;\n",
              "      padding: 0 0 0 0;\n",
              "      width: 32px;\n",
              "    }\n",
              "\n",
              "    .colab-df-convert:hover {\n",
              "      background-color: #E2EBFA;\n",
              "      box-shadow: 0px 1px 2px rgba(60, 64, 67, 0.3), 0px 1px 3px 1px rgba(60, 64, 67, 0.15);\n",
              "      fill: #174EA6;\n",
              "    }\n",
              "\n",
              "    .colab-df-buttons div {\n",
              "      margin-bottom: 4px;\n",
              "    }\n",
              "\n",
              "    [theme=dark] .colab-df-convert {\n",
              "      background-color: #3B4455;\n",
              "      fill: #D2E3FC;\n",
              "    }\n",
              "\n",
              "    [theme=dark] .colab-df-convert:hover {\n",
              "      background-color: #434B5C;\n",
              "      box-shadow: 0px 1px 3px 1px rgba(0, 0, 0, 0.15);\n",
              "      filter: drop-shadow(0px 1px 2px rgba(0, 0, 0, 0.3));\n",
              "      fill: #FFFFFF;\n",
              "    }\n",
              "  </style>\n",
              "\n",
              "    <script>\n",
              "      const buttonEl =\n",
              "        document.querySelector('#df-f81383fb-c313-4824-872e-fda264e9df33 button.colab-df-convert');\n",
              "      buttonEl.style.display =\n",
              "        google.colab.kernel.accessAllowed ? 'block' : 'none';\n",
              "\n",
              "      async function convertToInteractive(key) {\n",
              "        const element = document.querySelector('#df-f81383fb-c313-4824-872e-fda264e9df33');\n",
              "        const dataTable =\n",
              "          await google.colab.kernel.invokeFunction('convertToInteractive',\n",
              "                                                    [key], {});\n",
              "        if (!dataTable) return;\n",
              "\n",
              "        const docLinkHtml = 'Like what you see? Visit the ' +\n",
              "          '<a target=\"_blank\" href=https://colab.research.google.com/notebooks/data_table.ipynb>data table notebook</a>'\n",
              "          + ' to learn more about interactive tables.';\n",
              "        element.innerHTML = '';\n",
              "        dataTable['output_type'] = 'display_data';\n",
              "        await google.colab.output.renderOutput(dataTable, element);\n",
              "        const docLink = document.createElement('div');\n",
              "        docLink.innerHTML = docLinkHtml;\n",
              "        element.appendChild(docLink);\n",
              "      }\n",
              "    </script>\n",
              "  </div>\n",
              "\n",
              "\n",
              "<div id=\"df-960517a4-82c6-4969-9de6-126643bfda62\">\n",
              "  <button class=\"colab-df-quickchart\" onclick=\"quickchart('df-960517a4-82c6-4969-9de6-126643bfda62')\"\n",
              "            title=\"Suggest charts\"\n",
              "            style=\"display:none;\">\n",
              "\n",
              "<svg xmlns=\"http://www.w3.org/2000/svg\" height=\"24px\"viewBox=\"0 0 24 24\"\n",
              "     width=\"24px\">\n",
              "    <g>\n",
              "        <path d=\"M19 3H5c-1.1 0-2 .9-2 2v14c0 1.1.9 2 2 2h14c1.1 0 2-.9 2-2V5c0-1.1-.9-2-2-2zM9 17H7v-7h2v7zm4 0h-2V7h2v10zm4 0h-2v-4h2v4z\"/>\n",
              "    </g>\n",
              "</svg>\n",
              "  </button>\n",
              "\n",
              "<style>\n",
              "  .colab-df-quickchart {\n",
              "      --bg-color: #E8F0FE;\n",
              "      --fill-color: #1967D2;\n",
              "      --hover-bg-color: #E2EBFA;\n",
              "      --hover-fill-color: #174EA6;\n",
              "      --disabled-fill-color: #AAA;\n",
              "      --disabled-bg-color: #DDD;\n",
              "  }\n",
              "\n",
              "  [theme=dark] .colab-df-quickchart {\n",
              "      --bg-color: #3B4455;\n",
              "      --fill-color: #D2E3FC;\n",
              "      --hover-bg-color: #434B5C;\n",
              "      --hover-fill-color: #FFFFFF;\n",
              "      --disabled-bg-color: #3B4455;\n",
              "      --disabled-fill-color: #666;\n",
              "  }\n",
              "\n",
              "  .colab-df-quickchart {\n",
              "    background-color: var(--bg-color);\n",
              "    border: none;\n",
              "    border-radius: 50%;\n",
              "    cursor: pointer;\n",
              "    display: none;\n",
              "    fill: var(--fill-color);\n",
              "    height: 32px;\n",
              "    padding: 0;\n",
              "    width: 32px;\n",
              "  }\n",
              "\n",
              "  .colab-df-quickchart:hover {\n",
              "    background-color: var(--hover-bg-color);\n",
              "    box-shadow: 0 1px 2px rgba(60, 64, 67, 0.3), 0 1px 3px 1px rgba(60, 64, 67, 0.15);\n",
              "    fill: var(--button-hover-fill-color);\n",
              "  }\n",
              "\n",
              "  .colab-df-quickchart-complete:disabled,\n",
              "  .colab-df-quickchart-complete:disabled:hover {\n",
              "    background-color: var(--disabled-bg-color);\n",
              "    fill: var(--disabled-fill-color);\n",
              "    box-shadow: none;\n",
              "  }\n",
              "\n",
              "  .colab-df-spinner {\n",
              "    border: 2px solid var(--fill-color);\n",
              "    border-color: transparent;\n",
              "    border-bottom-color: var(--fill-color);\n",
              "    animation:\n",
              "      spin 1s steps(1) infinite;\n",
              "  }\n",
              "\n",
              "  @keyframes spin {\n",
              "    0% {\n",
              "      border-color: transparent;\n",
              "      border-bottom-color: var(--fill-color);\n",
              "      border-left-color: var(--fill-color);\n",
              "    }\n",
              "    20% {\n",
              "      border-color: transparent;\n",
              "      border-left-color: var(--fill-color);\n",
              "      border-top-color: var(--fill-color);\n",
              "    }\n",
              "    30% {\n",
              "      border-color: transparent;\n",
              "      border-left-color: var(--fill-color);\n",
              "      border-top-color: var(--fill-color);\n",
              "      border-right-color: var(--fill-color);\n",
              "    }\n",
              "    40% {\n",
              "      border-color: transparent;\n",
              "      border-right-color: var(--fill-color);\n",
              "      border-top-color: var(--fill-color);\n",
              "    }\n",
              "    60% {\n",
              "      border-color: transparent;\n",
              "      border-right-color: var(--fill-color);\n",
              "    }\n",
              "    80% {\n",
              "      border-color: transparent;\n",
              "      border-right-color: var(--fill-color);\n",
              "      border-bottom-color: var(--fill-color);\n",
              "    }\n",
              "    90% {\n",
              "      border-color: transparent;\n",
              "      border-bottom-color: var(--fill-color);\n",
              "    }\n",
              "  }\n",
              "</style>\n",
              "\n",
              "  <script>\n",
              "    async function quickchart(key) {\n",
              "      const quickchartButtonEl =\n",
              "        document.querySelector('#' + key + ' button');\n",
              "      quickchartButtonEl.disabled = true;  // To prevent multiple clicks.\n",
              "      quickchartButtonEl.classList.add('colab-df-spinner');\n",
              "      try {\n",
              "        const charts = await google.colab.kernel.invokeFunction(\n",
              "            'suggestCharts', [key], {});\n",
              "      } catch (error) {\n",
              "        console.error('Error during call to suggestCharts:', error);\n",
              "      }\n",
              "      quickchartButtonEl.classList.remove('colab-df-spinner');\n",
              "      quickchartButtonEl.classList.add('colab-df-quickchart-complete');\n",
              "    }\n",
              "    (() => {\n",
              "      let quickchartButtonEl =\n",
              "        document.querySelector('#df-960517a4-82c6-4969-9de6-126643bfda62 button');\n",
              "      quickchartButtonEl.style.display =\n",
              "        google.colab.kernel.accessAllowed ? 'block' : 'none';\n",
              "    })();\n",
              "  </script>\n",
              "</div>\n",
              "\n",
              "    </div>\n",
              "  </div>\n"
            ],
            "application/vnd.google.colaboratory.intrinsic+json": {
              "type": "dataframe",
              "variable_name": "data"
            }
          },
          "metadata": {},
          "execution_count": 4
        }
      ]
    },
    {
      "cell_type": "code",
      "source": [
        "data['Disease'].unique()"
      ],
      "metadata": {
        "colab": {
          "base_uri": "https://localhost:8080/"
        },
        "id": "5IRtbswYnQWd",
        "outputId": "1eac9371-a864-4cfd-df66-5841360521f5"
      },
      "execution_count": 3,
      "outputs": [
        {
          "output_type": "execute_result",
          "data": {
            "text/plain": [
              "array(['Healthy', 'Diabetes', 'Thalasse', 'Anemia', 'Thromboc'],\n",
              "      dtype=object)"
            ]
          },
          "metadata": {},
          "execution_count": 3
        }
      ]
    },
    {
      "cell_type": "code",
      "source": [
        "column_names = data.columns.tolist()\n",
        "column_names"
      ],
      "metadata": {
        "colab": {
          "base_uri": "https://localhost:8080/"
        },
        "id": "-Tx3XWm9ne4z",
        "outputId": "f4b55ca8-9b30-4917-bb9c-6967c4f6e8a1"
      },
      "execution_count": 7,
      "outputs": [
        {
          "output_type": "execute_result",
          "data": {
            "text/plain": [
              "['Glucose',\n",
              " 'Cholesterol',\n",
              " 'Hemoglobin',\n",
              " 'Platelets',\n",
              " 'White Blood Cells',\n",
              " 'Red Blood Cells',\n",
              " 'Hematocrit',\n",
              " 'Mean Corpuscular Volume',\n",
              " 'Mean Corpuscular Hemoglobin',\n",
              " 'Mean Corpuscular Hemoglobin Concentration',\n",
              " 'Insulin',\n",
              " 'BMI',\n",
              " 'Systolic Blood Pressure',\n",
              " 'Diastolic Blood Pressure',\n",
              " 'Triglycerides',\n",
              " 'HbA1c',\n",
              " 'LDL Cholesterol',\n",
              " 'HDL Cholesterol',\n",
              " 'ALT',\n",
              " 'AST',\n",
              " 'Heart Rate',\n",
              " 'Creatinine',\n",
              " 'Troponin',\n",
              " 'C-reactive Protein',\n",
              " 'Disease']"
            ]
          },
          "metadata": {},
          "execution_count": 7
        }
      ]
    },
    {
      "cell_type": "code",
      "source": [
        "data.isna().sum()"
      ],
      "metadata": {
        "colab": {
          "base_uri": "https://localhost:8080/"
        },
        "id": "oC_Ddeoooyrj",
        "outputId": "75dd90bd-5736-4012-e932-51bc7af6bde3"
      },
      "execution_count": 10,
      "outputs": [
        {
          "output_type": "execute_result",
          "data": {
            "text/plain": [
              "Glucose                                      0\n",
              "Cholesterol                                  0\n",
              "Hemoglobin                                   0\n",
              "Platelets                                    0\n",
              "White Blood Cells                            0\n",
              "Red Blood Cells                              0\n",
              "Hematocrit                                   0\n",
              "Mean Corpuscular Volume                      0\n",
              "Mean Corpuscular Hemoglobin                  0\n",
              "Mean Corpuscular Hemoglobin Concentration    0\n",
              "Insulin                                      0\n",
              "BMI                                          0\n",
              "Systolic Blood Pressure                      0\n",
              "Diastolic Blood Pressure                     0\n",
              "Triglycerides                                0\n",
              "HbA1c                                        0\n",
              "LDL Cholesterol                              0\n",
              "HDL Cholesterol                              0\n",
              "ALT                                          0\n",
              "AST                                          0\n",
              "Heart Rate                                   0\n",
              "Creatinine                                   0\n",
              "Troponin                                     0\n",
              "C-reactive Protein                           0\n",
              "Disease                                      0\n",
              "dtype: int64"
            ]
          },
          "metadata": {},
          "execution_count": 10
        }
      ]
    },
    {
      "cell_type": "code",
      "source": [
        "data.Disease"
      ],
      "metadata": {
        "colab": {
          "base_uri": "https://localhost:8080/"
        },
        "id": "2pugydoxs_rM",
        "outputId": "869a55b0-205c-4f4c-c31c-42f2e26a1fc7"
      },
      "execution_count": 26,
      "outputs": [
        {
          "output_type": "execute_result",
          "data": {
            "text/plain": [
              "0        Healthy\n",
              "1       Diabetes\n",
              "2       Thalasse\n",
              "3         Anemia\n",
              "4       Thalasse\n",
              "          ...   \n",
              "2346    Diabetes\n",
              "2347    Thalasse\n",
              "2348      Anemia\n",
              "2349    Diabetes\n",
              "2350      Anemia\n",
              "Name: Disease, Length: 2351, dtype: object"
            ]
          },
          "metadata": {},
          "execution_count": 26
        }
      ]
    },
    {
      "cell_type": "code",
      "source": [
        "data.Disease.value_counts()"
      ],
      "metadata": {
        "colab": {
          "base_uri": "https://localhost:8080/"
        },
        "id": "b5Q3CZ7Yo2Tj",
        "outputId": "6a46fc44-5db5-4abd-be05-34e14ef0a5a7"
      },
      "execution_count": 11,
      "outputs": [
        {
          "output_type": "execute_result",
          "data": {
            "text/plain": [
              "Anemia      623\n",
              "Healthy     556\n",
              "Diabetes    540\n",
              "Thalasse    509\n",
              "Thromboc    123\n",
              "Name: Disease, dtype: int64"
            ]
          },
          "metadata": {},
          "execution_count": 11
        }
      ]
    },
    {
      "cell_type": "code",
      "source": [],
      "metadata": {
        "id": "ZFriFQwlofBb"
      },
      "execution_count": 21,
      "outputs": []
    },
    {
      "cell_type": "code",
      "source": [
        "from sklearn.preprocessing import LabelEncoder\n",
        "encoder=LabelEncoder()\n",
        "data['Labels']=encoder.fit_transform(data['Disease'])\n",
        "print(data['Labels'].value_counts())"
      ],
      "metadata": {
        "colab": {
          "base_uri": "https://localhost:8080/"
        },
        "id": "QtHpDY5towAL",
        "outputId": "3e8891d8-294b-4a1e-f360-90e3301aa744"
      },
      "execution_count": 27,
      "outputs": [
        {
          "output_type": "stream",
          "name": "stdout",
          "text": [
            "0    623\n",
            "2    556\n",
            "1    540\n",
            "3    509\n",
            "4    123\n",
            "Name: Labels, dtype: int64\n"
          ]
        }
      ]
    },
    {
      "cell_type": "code",
      "source": [
        "X = data.drop([\"Disease\",\"Labels\"], axis=1)\n",
        "Y = data.Labels"
      ],
      "metadata": {
        "id": "eP-_zb1trFm2"
      },
      "execution_count": 30,
      "outputs": []
    },
    {
      "cell_type": "code",
      "source": [
        "from sklearn.model_selection import train_test_split\n",
        "xtrain,xtest,ytrain,ytest=train_test_split(X,Y,random_state=41,test_size=0.28)"
      ],
      "metadata": {
        "id": "Mh0wOdmZtMot"
      },
      "execution_count": 31,
      "outputs": []
    },
    {
      "cell_type": "markdown",
      "source": [
        "Logistic Regression"
      ],
      "metadata": {
        "id": "EUTljr9dwlu-"
      }
    },
    {
      "cell_type": "code",
      "source": [
        "from sklearn.linear_model import LogisticRegression\n",
        "model1=LogisticRegression()\n",
        "model1.fit(xtrain,ytrain)"
      ],
      "metadata": {
        "colab": {
          "base_uri": "https://localhost:8080/",
          "height": 214
        },
        "id": "iM1QRi_Rtnk1",
        "outputId": "072760d9-0bae-467e-916a-050dfe7e09e3"
      },
      "execution_count": 32,
      "outputs": [
        {
          "output_type": "stream",
          "name": "stderr",
          "text": [
            "/usr/local/lib/python3.10/dist-packages/sklearn/linear_model/_logistic.py:458: ConvergenceWarning: lbfgs failed to converge (status=1):\n",
            "STOP: TOTAL NO. of ITERATIONS REACHED LIMIT.\n",
            "\n",
            "Increase the number of iterations (max_iter) or scale the data as shown in:\n",
            "    https://scikit-learn.org/stable/modules/preprocessing.html\n",
            "Please also refer to the documentation for alternative solver options:\n",
            "    https://scikit-learn.org/stable/modules/linear_model.html#logistic-regression\n",
            "  n_iter_i = _check_optimize_result(\n"
          ]
        },
        {
          "output_type": "execute_result",
          "data": {
            "text/plain": [
              "LogisticRegression()"
            ],
            "text/html": [
              "<style>#sk-container-id-1 {color: black;background-color: white;}#sk-container-id-1 pre{padding: 0;}#sk-container-id-1 div.sk-toggleable {background-color: white;}#sk-container-id-1 label.sk-toggleable__label {cursor: pointer;display: block;width: 100%;margin-bottom: 0;padding: 0.3em;box-sizing: border-box;text-align: center;}#sk-container-id-1 label.sk-toggleable__label-arrow:before {content: \"▸\";float: left;margin-right: 0.25em;color: #696969;}#sk-container-id-1 label.sk-toggleable__label-arrow:hover:before {color: black;}#sk-container-id-1 div.sk-estimator:hover label.sk-toggleable__label-arrow:before {color: black;}#sk-container-id-1 div.sk-toggleable__content {max-height: 0;max-width: 0;overflow: hidden;text-align: left;background-color: #f0f8ff;}#sk-container-id-1 div.sk-toggleable__content pre {margin: 0.2em;color: black;border-radius: 0.25em;background-color: #f0f8ff;}#sk-container-id-1 input.sk-toggleable__control:checked~div.sk-toggleable__content {max-height: 200px;max-width: 100%;overflow: auto;}#sk-container-id-1 input.sk-toggleable__control:checked~label.sk-toggleable__label-arrow:before {content: \"▾\";}#sk-container-id-1 div.sk-estimator input.sk-toggleable__control:checked~label.sk-toggleable__label {background-color: #d4ebff;}#sk-container-id-1 div.sk-label input.sk-toggleable__control:checked~label.sk-toggleable__label {background-color: #d4ebff;}#sk-container-id-1 input.sk-hidden--visually {border: 0;clip: rect(1px 1px 1px 1px);clip: rect(1px, 1px, 1px, 1px);height: 1px;margin: -1px;overflow: hidden;padding: 0;position: absolute;width: 1px;}#sk-container-id-1 div.sk-estimator {font-family: monospace;background-color: #f0f8ff;border: 1px dotted black;border-radius: 0.25em;box-sizing: border-box;margin-bottom: 0.5em;}#sk-container-id-1 div.sk-estimator:hover {background-color: #d4ebff;}#sk-container-id-1 div.sk-parallel-item::after {content: \"\";width: 100%;border-bottom: 1px solid gray;flex-grow: 1;}#sk-container-id-1 div.sk-label:hover label.sk-toggleable__label {background-color: #d4ebff;}#sk-container-id-1 div.sk-serial::before {content: \"\";position: absolute;border-left: 1px solid gray;box-sizing: border-box;top: 0;bottom: 0;left: 50%;z-index: 0;}#sk-container-id-1 div.sk-serial {display: flex;flex-direction: column;align-items: center;background-color: white;padding-right: 0.2em;padding-left: 0.2em;position: relative;}#sk-container-id-1 div.sk-item {position: relative;z-index: 1;}#sk-container-id-1 div.sk-parallel {display: flex;align-items: stretch;justify-content: center;background-color: white;position: relative;}#sk-container-id-1 div.sk-item::before, #sk-container-id-1 div.sk-parallel-item::before {content: \"\";position: absolute;border-left: 1px solid gray;box-sizing: border-box;top: 0;bottom: 0;left: 50%;z-index: -1;}#sk-container-id-1 div.sk-parallel-item {display: flex;flex-direction: column;z-index: 1;position: relative;background-color: white;}#sk-container-id-1 div.sk-parallel-item:first-child::after {align-self: flex-end;width: 50%;}#sk-container-id-1 div.sk-parallel-item:last-child::after {align-self: flex-start;width: 50%;}#sk-container-id-1 div.sk-parallel-item:only-child::after {width: 0;}#sk-container-id-1 div.sk-dashed-wrapped {border: 1px dashed gray;margin: 0 0.4em 0.5em 0.4em;box-sizing: border-box;padding-bottom: 0.4em;background-color: white;}#sk-container-id-1 div.sk-label label {font-family: monospace;font-weight: bold;display: inline-block;line-height: 1.2em;}#sk-container-id-1 div.sk-label-container {text-align: center;}#sk-container-id-1 div.sk-container {/* jupyter's `normalize.less` sets `[hidden] { display: none; }` but bootstrap.min.css set `[hidden] { display: none !important; }` so we also need the `!important` here to be able to override the default hidden behavior on the sphinx rendered scikit-learn.org. See: https://github.com/scikit-learn/scikit-learn/issues/21755 */display: inline-block !important;position: relative;}#sk-container-id-1 div.sk-text-repr-fallback {display: none;}</style><div id=\"sk-container-id-1\" class=\"sk-top-container\"><div class=\"sk-text-repr-fallback\"><pre>LogisticRegression()</pre><b>In a Jupyter environment, please rerun this cell to show the HTML representation or trust the notebook. <br />On GitHub, the HTML representation is unable to render, please try loading this page with nbviewer.org.</b></div><div class=\"sk-container\" hidden><div class=\"sk-item\"><div class=\"sk-estimator sk-toggleable\"><input class=\"sk-toggleable__control sk-hidden--visually\" id=\"sk-estimator-id-1\" type=\"checkbox\" checked><label for=\"sk-estimator-id-1\" class=\"sk-toggleable__label sk-toggleable__label-arrow\">LogisticRegression</label><div class=\"sk-toggleable__content\"><pre>LogisticRegression()</pre></div></div></div></div></div>"
            ]
          },
          "metadata": {},
          "execution_count": 32
        }
      ]
    },
    {
      "cell_type": "code",
      "source": [
        "ypred1=model1.predict(xtest)"
      ],
      "metadata": {
        "id": "epKJSCZ3uCs-"
      },
      "execution_count": 33,
      "outputs": []
    },
    {
      "cell_type": "code",
      "source": [
        "from sklearn.metrics import confusion_matrix,classification_report\n",
        "cm=confusion_matrix(ytest,ypred1)\n",
        "cmdf=pd.DataFrame(cm,index=[\"Anemia\",\"Healthy\",\"Diabetes\",\"Thalasse\",\"Thromboc\"], columns=[\"Anemia\",\"Healthy\",\"Diabetes\",\"Thalasse\",\"Thromboc\"])\n",
        "# cmdf = cmdf.astype(int)\n",
        "sns.heatmap(cmdf, annot=True, fmt='d')\n",
        "plt.title(\"Confusion matrix of diseases\")\n",
        "plt.show()"
      ],
      "metadata": {
        "colab": {
          "base_uri": "https://localhost:8080/",
          "height": 452
        },
        "id": "n4P0ntpquJvW",
        "outputId": "1b8e08a8-2507-41bc-a7c3-9d5b00a8b49d"
      },
      "execution_count": 41,
      "outputs": [
        {
          "output_type": "display_data",
          "data": {
            "text/plain": [
              "<Figure size 640x480 with 2 Axes>"
            ],
            "image/png": "[encoded data removed]"
          },
          "metadata": {}
        }
      ]
    },
    {
      "cell_type": "code",
      "source": [
        "print(classification_report(ytest,ypred1))"
      ],
      "metadata": {
        "colab": {
          "base_uri": "https://localhost:8080/"
        },
        "id": "QGegX761uigx",
        "outputId": "543814f4-7a62-43e1-bdd1-2258653a71a3"
      },
      "execution_count": 36,
      "outputs": [
        {
          "output_type": "stream",
          "name": "stdout",
          "text": [
            "              precision    recall  f1-score   support\n",
            "\n",
            "           0       1.00      1.00      1.00       172\n",
            "           1       1.00      1.00      1.00       158\n",
            "           2       1.00      1.00      1.00       137\n",
            "           3       1.00      1.00      1.00       151\n",
            "           4       1.00      1.00      1.00        41\n",
            "\n",
            "    accuracy                           1.00       659\n",
            "   macro avg       1.00      1.00      1.00       659\n",
            "weighted avg       1.00      1.00      1.00       659\n",
            "\n"
          ]
        }
      ]
    },
    {
      "cell_type": "markdown",
      "source": [
        "Decision Tree"
      ],
      "metadata": {
        "id": "dbAhqIXewc-t"
      }
    },
    {
      "cell_type": "code",
      "source": [
        "from sklearn.tree import DecisionTreeClassifier"
      ],
      "metadata": {
        "id": "doa_enVJu1-Q"
      },
      "execution_count": null,
      "outputs": []
    }
  ]
}